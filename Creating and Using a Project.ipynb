{
 "cells": [
  {
   "cell_type": "markdown",
   "metadata": {},
   "source": [
    "In this section we'll learn how to set up a project on the platform."
   ]
  },
  {
   "cell_type": "markdown",
   "metadata": {},
   "source": [
    "# Creating the Project"
   ]
  },
  {
   "cell_type": "markdown",
   "metadata": {},
   "source": [
    "Projects in the platform are linked to version control repositories like Git.  In this section we assume that connecticity to your organization's version control service has already been set up.\n",
    "\n",
    "If this is a fresh project without a repository, one must be created first.  For an existing project, its repository can simply be imported into the platform. "
   ]
  },
  {
   "cell_type": "markdown",
   "metadata": {},
   "source": [
    "# Importing the Project"
   ]
  },
  {
   "cell_type": "markdown",
   "metadata": {},
   "source": [
    "From the **Projects** page, click on the **New Project** button.\n",
    "\n",
    "Select the provider where the project is hosted.  In the search box, type the name of the project's repository.  Your repository should show up in the search box dropdown menu.  Click on your repository's name.\n",
    "\n",
    "**Note:  Each repository can only be linked to a single project in the platform.  If you see a yellow icon next to a repository, this indicates that this repository has already been imported and linked to a project and cannot be imported again unless that project is deleted.**\n",
    "\n",
    "Enter your project title and a project description.  This is how your project will be identified in the paltform.  \n",
    "You can now optionally invite collaborators to work with you on the project by entering their names in the **Invite Collaborators** box.  You can also add collaborators after a project has been impored, so for now we'll leave that blank.\n",
    "\n",
    "Once the relevant fields are filled out, click on the **Create Project** button to create your project."
   ]
  },
  {
   "cell_type": "markdown",
   "metadata": {},
   "source": [
    "# Working on Your Project"
   ]
  },
  {
   "cell_type": "markdown",
   "metadata": {},
   "source": [
    "Your project will now show up on the platform in the projects page, which lists all projects.  You can also use the filtering tools to show only projects on which you are a collaborator to make finding your project easier.\n",
    "\n",
    "Click on the project you just created.  Doing so will take you to the **Project Overview** page.  From here you can work on your project.\n",
    "\n",
    "There are many things you can do from within a project including edit and run scripts, schedule jobs, launch notebooks, and publish reports.  The menu with these actions can be opened by clicking the **+** button on the left sidebar."
   ]
  }
 ],
 "metadata": {
  "kernelspec": {
   "display_name": "Python 2",
   "language": "python",
   "name": "python2"
  },
  "language_info": {
   "codemirror_mode": {
    "name": "ipython",
    "version": 2
   },
   "file_extension": ".py",
   "mimetype": "text/x-python",
   "name": "python",
   "nbconvert_exporter": "python",
   "pygments_lexer": "ipython2",
   "version": "2.7.12"
  }
 },
 "nbformat": 4,
 "nbformat_minor": 2
}
